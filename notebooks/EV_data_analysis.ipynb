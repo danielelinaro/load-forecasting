{
 "cells": [
  {
   "cell_type": "code",
   "execution_count": null,
   "metadata": {},
   "outputs": [],
   "source": [
    "import os\n",
    "import sys\n",
    "import json\n",
    "import numpy as np\n",
    "import pandas as pd\n",
    "from scipy.optimize import curve_fit\n",
    "import matplotlib.pyplot as plt\n",
    "from matplotlib.gridspec import GridSpec\n",
    "import seaborn as sns\n",
    "%matplotlib inline"
   ]
  },
  {
   "cell_type": "code",
   "execution_count": null,
   "metadata": {},
   "outputs": [],
   "source": [
    "def convert_timezone(date, dst_tz, src_tz='GMT', date_fmt='%a, %d %b %Y %H:%M:%S GMT', output='date'):\n",
    "    import pytz\n",
    "    from datetime import datetime\n",
    "    if isinstance(date, str):\n",
    "        D = datetime.strptime(date, date_fmt)\n",
    "    else:\n",
    "        D = date\n",
    "    src = pytz.timezone(src_tz)\n",
    "    dst = pytz.timezone(dst_tz)\n",
    "    D = src.localize(D).astimezone(dst)\n",
    "    if output == 'date':\n",
    "        return D\n",
    "    return D.strftime(date_fmt).replace(src_tz, dst_tz)\n",
    "\n",
    "\n",
    "def make_dataframe(data):\n",
    "    if data['pilotSignal'] is None:\n",
    "        raise Exception('No pilot signal')\n",
    "    tz = data['timezone']\n",
    "    df1 = pd.DataFrame(data=data['pilotSignal'])\n",
    "    df1['timestamps'] = df1['timestamps'].apply(convert_timezone, args=(tz,))\n",
    "    df1['timestamps'] = pd.to_datetime(df1['timestamps'])\n",
    "    df2 = pd.DataFrame(data=data['chargingCurrent'])\n",
    "    df2['timestamps'] = df2['timestamps'].apply(convert_timezone, args=(tz,))\n",
    "    df2['timestamps'] = pd.to_datetime(df2['timestamps'])\n",
    "    return pd.merge(df1, df2, how='inner', on=['timestamps'])\n",
    "\n",
    "\n",
    "def convert_to_hour_of_day(times, weekdays):\n",
    "    hours = []\n",
    "    for day in range(7):\n",
    "        idx, = np.where(weekdays == day)\n",
    "        hours.append(np.array([times[i].hour * 3600 + \n",
    "                               times[i].minute * 60 +\n",
    "                               times[i].second for i in idx]) / 3600)\n",
    "    return hours\n",
    "\n",
    "\n",
    "def plot_times(hours, bin_size=0.5, ax=None, **kwargs):\n",
    "    edges = np.r_[0 : 24 + bin_size/2 : bin_size]\n",
    "    if ax is None:\n",
    "        _,ax = plt.subplots(1, 1, figsize=(10,5))\n",
    "    for i,hrs in enumerate(hours):\n",
    "        n,_ = np.histogram(hrs, bins=edges)\n",
    "        ax.bar(i * 24 + edges[:-1], n, width=bin_size, align='edge', **kwargs)\n",
    "    step = 6\n",
    "    ax.set_xticks(np.r_[0 : 24*7+1 : step])\n",
    "    ax.set_xticklabels(np.arange(0, 24*7+1, step) % 24)"
   ]
  },
  {
   "cell_type": "markdown",
   "metadata": {},
   "source": [
    "### Load the data"
   ]
  },
  {
   "cell_type": "code",
   "execution_count": null,
   "metadata": {},
   "outputs": [],
   "source": [
    "data_file = os.path.join('..', 'EV_data_station_with_ts_2019.json')\n",
    "data_file = os.path.join('..', 'EV_data_2019_kWh_0-100.json')\n",
    "data = json.load(open(data_file, 'r'))\n",
    "n_recordings = len(data)\n",
    "print(f'There are {n_recordings} recordings.')"
   ]
  },
  {
   "cell_type": "code",
   "execution_count": null,
   "metadata": {},
   "outputs": [],
   "source": [
    "data[0].keys()"
   ]
  },
  {
   "cell_type": "code",
   "execution_count": null,
   "metadata": {},
   "outputs": [],
   "source": [
    "connection_times = [convert_timezone(d['connectionTime'], d['timezone']) for d in data]\n",
    "disconnection_times = [convert_timezone(d['disconnectTime'], d['timezone']) for d in data]\n",
    "done_charging_times = [convert_timezone(d['doneChargingTime'], d['timezone']) \\\n",
    "                       if d['doneChargingTime'] is not None else None for d in data]\n",
    "missing_charging_times, = np.where([t is None for t in done_charging_times])\n",
    "kWh_delivered = np.array([d['kWhDelivered'] for d in data])\n",
    "connection_dur = np.array([(end-start).seconds / 3600 \\\n",
    "                           for start,end in zip(connection_times, disconnection_times)])\n",
    "n_missing = len(missing_charging_times)\n",
    "frac_missing = n_missing / n_recordings\n",
    "week_days = np.array([d.weekday() for d in connection_times])\n",
    "working_days = week_days < 5\n",
    "connection_hours = convert_to_hour_of_day(connection_times, week_days)\n",
    "disconnection_hours = convert_to_hour_of_day(disconnection_times, week_days)\n",
    "print(f'{n_missing} recordings ({frac_missing*100:.1f}%) do not have the final charging time.')"
   ]
  },
  {
   "cell_type": "markdown",
   "metadata": {},
   "source": [
    "### The distributions of connection durations, delivered amounts of energy and duration vs. delivered  energy"
   ]
  },
  {
   "cell_type": "code",
   "execution_count": null,
   "metadata": {},
   "outputs": [],
   "source": [
    "fig,ax = plt.subplots(1, 3, figsize=(12, 3.5))\n",
    "\n",
    "cmap = plt.get_cmap('Paired')\n",
    "facecol = cmap(0)\n",
    "edgecol = cmap(1)\n",
    "\n",
    "bin_size = 1 # kWh\n",
    "edges = np.r_[0 : kWh_delivered.max() + bin_size/2 : bin_size]\n",
    "n,_ = np.histogram(kWh_delivered, bins=edges, density=True)\n",
    "ax[0].bar(edges[:-1], n, width=0.7*bin_size, align='edge',\n",
    "       facecolor=facecol, edgecolor=edgecol, linewidth=1)\n",
    "ax[0].set_xlabel('Energy delivered [kWh]')\n",
    "ax[0].set_ylabel('Fraction')\n",
    "\n",
    "bin_size = 1 # hours\n",
    "edges = np.r_[0 : connection_dur.max() + bin_size/2  : bin_size]\n",
    "n,_ = np.histogram(connection_dur, bins=edges, density=True)\n",
    "ax[1].bar(edges[:-1], n, width=0.7*bin_size, align='edge',\n",
    "       facecolor=facecol, edgecolor=edgecol, linewidth=1)\n",
    "ax[1].set_xlabel('Connection duration [hours]')\n",
    "ax[1].set_ylabel('Fraction')\n",
    "\n",
    "ax[2].scatter(connection_dur, kWh_delivered, s=1, color=cmap(3), marker='o', edgecolors='none')\n",
    "ax[2].set_xlabel('Connection duration [hours]')\n",
    "ax[2].set_ylabel('Energy delivered [kWh]')\n",
    "\n",
    "for a in ax:\n",
    "    for side in 'right','top':\n",
    "        a.spines[side].set_visible(False)\n",
    "fig.tight_layout()\n"
   ]
  },
  {
   "cell_type": "markdown",
   "metadata": {},
   "source": [
    "### Plot the distributions of (dis)connection times for each day of the week"
   ]
  },
  {
   "cell_type": "code",
   "execution_count": null,
   "metadata": {},
   "outputs": [],
   "source": [
    "fig,ax = plt.subplots(1, 1, figsize=(12,3.5))\n",
    "plot_times(connection_hours, ax=ax, facecolor='k', edgecolor='k', lw=0.5, alpha=0.5)\n",
    "plot_times(disconnection_hours, ax=ax, facecolor='r', edgecolor='r', lw=0.5, alpha=0.5)\n",
    "for side in 'right','top':\n",
    "    ax.spines[side].set_visible(False)\n",
    "ax.set_ylabel('Count')\n",
    "ax.set_xlabel('Hour of the day')\n",
    "fig.tight_layout()"
   ]
  },
  {
   "cell_type": "markdown",
   "metadata": {},
   "source": [
    "### Fit the arrivals time of a single day with an exponential distribution (i.e.,  Poisson arrival times)"
   ]
  },
  {
   "cell_type": "code",
   "execution_count": null,
   "metadata": {},
   "outputs": [],
   "source": [
    "day = 0\n",
    "hrs = connection_hours[day]\n",
    "IEIs = np.diff(hrs)                # [hours] inter-event intervals\n",
    "IEIs = IEIs[IEIs > 0] * 60         # [minutes]\n",
    "bin_size = 5                       # [minutes]\n",
    "edges = np.r_[0 : np.ceil(IEIs.max() / 60) * 60 : bin_size]\n",
    "n,edges = np.histogram(IEIs, bins=30)\n",
    "bin_size = edges[1] - edges[0]\n",
    "fit_func = lambda t,a,b: a*np.exp(b*t)\n",
    "x = edges[:-1] + bin_size/2\n",
    "y = n\n",
    "(a,b),_ = curve_fit(fit_func, x, y, p0=[y[0], -1/np.median(IEIs)])\n",
    "\n",
    "print(f'Mean arrival time: {IEIs.mean():.1f} min.')\n",
    "print(f'Median arrival time: {np.median(IEIs):.1f} min.')\n",
    "print(f'Mean arrival time of the fitted distribution: {1/np.abs(b):.1f} min.')\n",
    "print('Expected mean arrival time (if uniform distr.): ' +\n",
    "      f'{365 * 24 * 60 / 7 / connection_hours[day].size:.1f} min.')"
   ]
  },
  {
   "cell_type": "code",
   "execution_count": null,
   "metadata": {},
   "outputs": [],
   "source": [
    "fig = plt.figure(figsize=(7,3.5))\n",
    "gs = GridSpec(1, 7, fig)\n",
    "ax = [fig.add_subplot(gs[0,:2]), fig.add_subplot(gs[0,2:])]\n",
    "\n",
    "sns.violinplot(y=IEIs, ax=ax[0], cut=0, inner='quartile', color=facecol, linewidth=1.5)\n",
    "ax[0].plot([-0.4, 0.4], 365 * 24 * 60 / 7 / connection_hours[day].size + np.zeros(2),\n",
    "           'm', lw=2, label='Uniform')\n",
    "ax[0].plot([-0.4, 0.4], IEIs.mean() + np.zeros(2), color=[0,1,0], lw=2, label='Mean')\n",
    "ax[0].plot([-0.4, 0.4], 1 / np.abs(b) + np.zeros(2), color=[1,0,0], lw=2, label='Fit')\n",
    "ax[0].legend(loc='best', frameon=False)\n",
    "\n",
    "ax[1].bar(edges[:-1], n, width=0.8*bin_size, align='edge',\n",
    "       facecolor=facecol, edgecolor=edgecol, linewidth=1, label='IAIs')\n",
    "ax[1].plot(x, fit_func(x, a, b), 'r', lw=2, label='Exponential fit')\n",
    "ax[1].plot(x, fit_func(x, y[0], -1/IEIs.mean()), color=[0,1,0], label='Exponential dist (mean)')\n",
    "ax[1].plot(x, fit_func(x, y[0], -1/np.median(IEIs)), color=[0,0,1], label='Exponential dist (median)')\n",
    "for axx in ax:\n",
    "    for side in 'right','top':\n",
    "        axx.spines[side].set_visible(False)\n",
    "\n",
    "ax[0].set_ylabel('Inter-arrival interval [minutes]')\n",
    "ax[1].set_xlabel('Inter-arrival interval [minutes]')\n",
    "ax[1].set_ylabel('Count')\n",
    "ax[1].legend(loc='upper right', frameon=False)\n",
    "fig.tight_layout()"
   ]
  },
  {
   "cell_type": "code",
   "execution_count": null,
   "metadata": {},
   "outputs": [],
   "source": [
    "if 'pilotSignal' in data[0]:\n",
    "    with_ts = True\n",
    "    print('Time series data present.')\n",
    "else:\n",
    "    with_ts = False\n",
    "    print('Time series data missing.')"
   ]
  },
  {
   "cell_type": "markdown",
   "metadata": {},
   "source": [
    "### Convert the data to a list of dataframes"
   ]
  },
  {
   "cell_type": "code",
   "execution_count": null,
   "metadata": {},
   "outputs": [],
   "source": [
    "if with_ts:\n",
    "    df = []\n",
    "    for i,d in enumerate(data):\n",
    "        sys.stdout.write('.')\n",
    "        try:\n",
    "            out = make_dataframe(d)\n",
    "            df.append(out)\n",
    "        except Exception as exc:\n",
    "            if exc.args[0] != 'No pilot signal':\n",
    "                raise exc\n",
    "        if (i+1) % 50 == 0:\n",
    "            sys.stdout.write('\\n')\n",
    "    print(f'{len(data)-len(df)} entries out of {len(data)} ' + \n",
    "          f'({(len(data)-len(df))/len(data)*100:.1f}%) had no pilot signal.')"
   ]
  },
  {
   "cell_type": "markdown",
   "metadata": {},
   "source": [
    "### Plot the time series of the pilot signal and actual delivered current"
   ]
  },
  {
   "cell_type": "code",
   "execution_count": null,
   "metadata": {
    "scrolled": false
   },
   "outputs": [],
   "source": [
    "if with_ts:\n",
    "    fig = plt.figure(figsize=(12,8))\n",
    "    gs = GridSpec(2, 2, fig)\n",
    "    ax = [fig.add_subplot(gs[0,:]), fig.add_subplot(gs[1,:1]), fig.add_subplot(gs[1,1:])]\n",
    "    for i,d in enumerate(df):\n",
    "        lgnd = True if i == 0 else False\n",
    "        d.plot(x='timestamps', y='current', ax=ax[0], color='k', lw=1, legend=lgnd)\n",
    "        d.plot(x='timestamps', y='pilot', ax=ax[0], color='r', lw=1, legend=lgnd)\n",
    "        ax[0].plot(d.loc[0,'timestamps'], 35, '*', color='k', markersize=5)\n",
    "    for i,n in enumerate((0, 14)):\n",
    "        df[n].plot(x='timestamps', y='current', ax=ax[i+1], color='k', lw=1, legend=False)\n",
    "        df[n].plot(x='timestamps', y='pilot', ax=ax[i+1], color='r', lw=1, legend=False)\n",
    "        ax[i+1].set_ylim(ax[0].get_ylim())\n",
    "    for a in ax:\n",
    "        for side in 'right','top':\n",
    "            a.spines[side].set_visible(False)\n",
    "        a.set_xlabel('Time')\n",
    "    ax[0].set_ylabel('Current [A]')\n",
    "    ax[1].set_ylabel('Current [A]')\n",
    "    fig.tight_layout()"
   ]
  }
 ],
 "metadata": {
  "kernelspec": {
   "display_name": "Python 3 (ipykernel)",
   "language": "python",
   "name": "python3"
  },
  "language_info": {
   "codemirror_mode": {
    "name": "ipython",
    "version": 3
   },
   "file_extension": ".py",
   "mimetype": "text/x-python",
   "name": "python",
   "nbconvert_exporter": "python",
   "pygments_lexer": "ipython3",
   "version": "3.10.13"
  }
 },
 "nbformat": 4,
 "nbformat_minor": 4
}
