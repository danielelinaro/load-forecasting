{
 "cells": [
  {
   "cell_type": "code",
   "execution_count": 1,
   "id": "b7a51af5",
   "metadata": {},
   "outputs": [],
   "source": [
    "import os\n",
    "import re\n",
    "import sys\n",
    "import glob\n",
    "import pickle\n",
    "import tables\n",
    "import datetime\n",
    "\n",
    "import numpy as np\n",
    "import pandas as pd\n",
    "from sklearn.preprocessing import OneHotEncoder\n",
    "import matplotlib.pyplot as plt\n",
    "%matplotlib inline\n",
    "\n",
    "import tensorflow as tf\n",
    "from tensorflow import keras\n",
    "from comet_ml.api import API, APIExperiment\n",
    "from comet_ml.query import Tag\n",
    "\n",
    "if not '..' in sys.path:\n",
    "    sys.path.append('..')\n",
    "from train_LSTM import *"
   ]
  },
  {
   "cell_type": "markdown",
   "id": "91ee84d4",
   "metadata": {},
   "source": [
    "#### First, convert all the Excel spreadsheets to pickle files"
   ]
  },
  {
   "cell_type": "code",
   "execution_count": 2,
   "id": "809a3e10",
   "metadata": {},
   "outputs": [],
   "source": [
    "def read_sheet(data_file, sheet_name, header=(0,)):\n",
    "    df = pd.read_excel(data_file, sheet_name=sheet_name, parse_dates=True, header=header)\n",
    "    \n",
    "    if isinstance(df.columns, pd.MultiIndex):\n",
    "        cols = []\n",
    "        for col in df.columns.to_list():\n",
    "            if 'Unnamed' in col[0]:\n",
    "                cols.append(col[1])\n",
    "            else:\n",
    "                cols.append(col[0].split(' ')[-1] + '_' + col[1].split(' ')[0])\n",
    "        df.columns = cols\n",
    "\n",
    "    if 'date' in df.columns:\n",
    "        year = df.date[0].year\n",
    "        df['datetime'] = [pd.Timestamp(year=d.year, month=d.month, day=d.day, \n",
    "                                       hour=t.hour, minute=t.minute) for d,t in zip(df.date, df.time)]\n",
    "        df.drop(['date', 'time'], axis=1, inplace=True)\n",
    "    elif 'datetime (epoch)' in df.columns:\n",
    "        datetimes = [time.gmtime(dt) for dt in df['datetime (epoch)']]\n",
    "        year = datetimes[0].tm_year\n",
    "        df['datetime'] = [pd.Timestamp(year = dt.tm_year, month = dt.tm_mon, day = dt.tm_mday, \n",
    "                                 hour = dt.tm_hour, minute  = dt.tm_min) for dt in datetimes]\n",
    "        df.drop('datetime (epoch)', axis=1, inplace=True)\n",
    "\n",
    "    df['weekday'] = [d.weekday() for d in df['datetime']]\n",
    "    df['weekend'] = [d.weekday() in (5,6) for d in df['datetime']]\n",
    "    df['holiday'] = False\n",
    "    for holiday in bank_holidays[year]:\n",
    "        idx = np.array([timestamp.month == holiday[0] and timestamp.day == holiday[1] \\\n",
    "                        for timestamp in df['datetime']])\n",
    "        df.loc[idx, 'holiday'] = True\n",
    "\n",
    "    cols = df.columns.tolist()\n",
    "    cols = cols[-4:] + cols[:-4]\n",
    "    df = df[cols]\n",
    "    df.rename({col: col.split(' ')[0] for col in cols}, axis='columns', inplace=True)\n",
    "    return df"
   ]
  },
  {
   "cell_type": "code",
   "execution_count": 3,
   "id": "6db3ddf4",
   "metadata": {},
   "outputs": [],
   "source": [
    "data_folder = '../data/'\n",
    "xls_files = ['data1.xlsx','data2.xlsx']\n",
    "pkl_files = [os.path.splitext(xls_file)[0] + '.pkl' for xls_file in xls_files]\n",
    "reload = False\n",
    "data = {}\n",
    "for xls_file, pkl_file in zip(xls_files, pkl_files):\n",
    "    if not os.path.isfile(data_folder + pkl_file) or reload:\n",
    "        building_energy = read_sheet(data_folder + xls_file, 'building_energy')\n",
    "        building_sensor = read_sheet(data_folder + xls_file, 'building_sensor')\n",
    "        weather_data = read_sheet(data_folder + xls_file, 'weather_data')\n",
    "        zones = {i+1: read_sheet(data_folder + xls_file, sheet_name=f'zone#{i+1}_energy', \n",
    "                                 header=(0,1)) for i in range(5)}\n",
    "        sensors = {i+1: read_sheet(data_folder + xls_file, sheet_name=f'zone#{i+1}_sensor') for i in range(3)}\n",
    "        data = {'full': {\n",
    "            'building_energy': building_energy,\n",
    "            'building_sensor': building_sensor,\n",
    "            'weather_data': weather_data,\n",
    "            'zones': zones,\n",
    "            'sensors': sensors\n",
    "        }}\n",
    "        pickle.dump(data, open(data_folder + pkl_file, 'wb'))\n",
    "    blob = pickle.load(open(data_folder + pkl_file, 'rb'))\n",
    "    for key1 in blob:\n",
    "        if key1 not in data:\n",
    "            data[key1] = blob[key1]\n",
    "        else:\n",
    "            for key2,value2 in blob[key1].items():\n",
    "                if isinstance(value2, dict):\n",
    "                    for key3,value3 in blob[key1][key2].items():\n",
    "                        data[key1][key2][key3] = data[key1][key2][key3].append(value3, ignore_index=True)\n",
    "                elif isinstance(value2, pd.DataFrame):\n",
    "                    data[key1][key2] = data[key1][key2].append(value2, ignore_index=True)\n",
    "                else:\n",
    "                    raise Exception(f'Do not know how to deal with object of type {type(value2)}')"
   ]
  },
  {
   "cell_type": "markdown",
   "id": "5525bef2",
   "metadata": {},
   "source": [
    "#### Load the best models"
   ]
  },
  {
   "cell_type": "code",
   "execution_count": 4,
   "id": "87089864",
   "metadata": {},
   "outputs": [
    {
     "name": "stdout",
     "output_type": "stream",
     "text": [
      " 0 hours ahead (1 expts): best expt is bade6653b (3 layers, 20 neurons, 100 epochs), validation loss: 0.0765\n",
      " 1 hours ahead (1 expts): best expt is 5bdc8bbba (3 layers, 20 neurons, 100 epochs), validation loss: 0.1091\n",
      " 2 hours ahead (1 expts): best expt is 8b836f3cf (3 layers, 20 neurons, 100 epochs), validation loss: 0.1238\n",
      " 3 hours ahead (1 expts): best expt is b766adc80 (3 layers, 20 neurons, 100 epochs), validation loss: 0.1354\n",
      " 4 hours ahead (1 expts): best expt is 931a29e52 (3 layers, 20 neurons, 100 epochs), validation loss: 0.1464\n",
      " 5 hours ahead (1 expts): best expt is 987d8a567 (3 layers, 20 neurons, 100 epochs), validation loss: 0.1472\n",
      " 6 hours ahead (1 expts): best expt is 39b9b156b (3 layers, 20 neurons, 100 epochs), validation loss: 0.1592\n",
      " 7 hours ahead (1 expts): best expt is dd2ba4871 (3 layers, 20 neurons, 100 epochs), validation loss: 0.1514\n",
      " 8 hours ahead (1 expts): best expt is 8dba116a2 (3 layers, 20 neurons, 100 epochs), validation loss: 0.1572\n",
      " 9 hours ahead (1 expts): best expt is 0bc7b0cb7 (3 layers, 20 neurons, 100 epochs), validation loss: 0.1627\n",
      "10 hours ahead (1 expts): best expt is 6b3a694e4 (3 layers, 20 neurons, 100 epochs), validation loss: 0.1631\n",
      "11 hours ahead (1 expts): best expt is 85a932268 (3 layers, 20 neurons, 100 epochs), validation loss: 0.1665\n",
      "12 hours ahead (1 expts): best expt is 3a1086a29 (3 layers, 20 neurons, 100 epochs), validation loss: 0.1673\n",
      "13 hours ahead (1 expts): best expt is 95b224821 (3 layers, 20 neurons, 100 epochs), validation loss: 0.1698\n",
      "14 hours ahead (1 expts): best expt is 66f99c308 (3 layers, 20 neurons, 100 epochs), validation loss: 0.1736\n",
      "15 hours ahead (1 expts): best expt is d90cf819e (3 layers, 20 neurons, 100 epochs), validation loss: 0.1636\n",
      "16 hours ahead (1 expts): best expt is cdd8a525e (3 layers, 20 neurons, 100 epochs), validation loss: 0.1627\n",
      "17 hours ahead (1 expts): best expt is 1fa08bb9e (3 layers, 20 neurons, 100 epochs), validation loss: 0.1623\n",
      "18 hours ahead (1 expts): best expt is b0ae7e793 (3 layers, 20 neurons, 100 epochs), validation loss: 0.1583\n",
      "19 hours ahead (1 expts): best expt is 910189f5c (3 layers, 20 neurons, 100 epochs), validation loss: 0.1649\n",
      "20 hours ahead (1 expts): best expt is cf9cba9de (3 layers, 20 neurons, 100 epochs), validation loss: 0.1620\n",
      "21 hours ahead (1 expts): best expt is b0b9ccdc4 (3 layers, 20 neurons, 100 epochs), validation loss: 0.1559\n",
      "22 hours ahead (2 expts): best expt is ee86791ee (3 layers, 20 neurons, 100 epochs), validation loss: 0.1613\n",
      "23 hours ahead (1 expts): best expt is 4d68f1040 (3 layers, 20 neurons, 100 epochs), validation loss: 0.1650\n"
     ]
    }
   ],
   "source": [
    "api = API(api_key = os.environ['COMET_API_KEY'])\n",
    "workspace = 'danielelinaro'\n",
    "project_name = 'load-forecasting'\n",
    "\n",
    "future = 1    # [hours]\n",
    "history = 24  # [hours]\n",
    "hours_ahead = np.r_[0 : 24 : future]\n",
    "\n",
    "n_neurons = 20\n",
    "n_layers = 3\n",
    "with_building_temperature = False\n",
    "random_initial_weights = True\n",
    "training_data_files = ['data1','data2']\n",
    "\n",
    "base_query = Tag('LSTM') & Tag('_'.join(training_data_files)) & \\\n",
    "    Tag(f'future={future:.2f}') & Tag(f'history={history}')\n",
    "if n_layers is not None:\n",
    "    base_query &= Tag(f'{n_layers}_layers')\n",
    "if n_neurons is not None:\n",
    "    base_query &= Tag(f'{n_neurons}_neurons')\n",
    "if with_building_temperature:\n",
    "    base_query &= Tag('building_temperature')\n",
    "if random_initial_weights:\n",
    "    base_query &= Tag('random_initial_weights')\n",
    "else:\n",
    "    base_query &= Tag('initialized_weights')\n",
    "\n",
    "experiments_path = '../experiments/LSTM/'\n",
    "experiment_IDs = []\n",
    "val_losses = []\n",
    "for hours in hours_ahead:\n",
    "    sys.stdout.write(f'{hours:4.2f} hours ahead ')\n",
    "    sys.stdout.flush()\n",
    "    query = base_query & Tag(f'ahead={hours:.1f}')\n",
    "    experiments = api.query(workspace, project_name, query, archived=False)\n",
    "    if not with_building_temperature:\n",
    "        experiments = [expt for expt in experiments if all([tag != 'building_temperature' \\\n",
    "                                                            for tag in expt.get_tags()])]\n",
    "    msg = f'({len(experiments)} expts): '\n",
    "    n_char = len(msg)\n",
    "    sys.stdout.write(msg)\n",
    "    min_val_loss = 100\n",
    "    for experiment in experiments:\n",
    "        metrics = experiment.get_metrics_summary()\n",
    "        loss = [float(m['valueMin']) for m in metrics if m['name'] == 'val_loss'][0]\n",
    "        if loss < min_val_loss:\n",
    "            ID = experiment.id\n",
    "            history = pickle.load(open(experiments_path + ID + '/history.pkl','rb'))\n",
    "            val_loss = history['val_loss']\n",
    "            min_val_loss = loss\n",
    "            tags = experiment.get_tags()\n",
    "    experiment_IDs.append(ID)\n",
    "    val_losses.append(val_loss)\n",
    "    n_neurons = [int(tag.split('_')[0]) for tag in tags if 'neurons' in tag][0]\n",
    "    n_layers = [int(tag.split('_')[0]) for tag in tags if 'layers' in tag][0]\n",
    "    n_epochs = len(val_loss)\n",
    "    print(f'best expt is {ID[:9]} ({n_layers} layers, {n_neurons} neurons, {n_epochs:3d} epochs), ' + \n",
    "          f'validation loss: {min_val_loss:.4f}')"
   ]
  },
  {
   "cell_type": "code",
   "execution_count": 5,
   "id": "0a600738",
   "metadata": {},
   "outputs": [],
   "source": [
    "n_experiments = len(experiment_IDs)\n",
    "models = []\n",
    "for i,experiment_ID in enumerate(experiment_IDs):\n",
    "    checkpoint_path = experiments_path + experiment_ID + '/checkpoints/'\n",
    "    checkpoint_files = glob.glob(checkpoint_path + '*.h5')\n",
    "    epochs = [int(os.path.split(file)[-1].split('.')[1].split('-')[0])\n",
    "              for file in checkpoint_files]\n",
    "    best_checkpoint = checkpoint_files[epochs.index(np.argmin(val_losses[i]) + 1)]\n",
    "    models.append(keras.models.load_model(best_checkpoint, compile=True))\n",
    "\n",
    "parameters = pickle.load(open(experiments_path + experiment_ID + '/parameters.pkl', 'rb'))\n",
    "# we need min and max of the training set to normalize the data\n",
    "training_set_min = parameters['training_set_min']\n",
    "training_set_max = parameters['training_set_max']\n",
    "try:\n",
    "    data_files = ['../' + data_file for data_file in parameters['data_files']]\n",
    "except:\n",
    "    data_files = ['../' + parameters['data_file']]\n",
    "time_step = parameters['time_step']"
   ]
  },
  {
   "cell_type": "code",
   "execution_count": 6,
   "id": "dffc0ba7",
   "metadata": {},
   "outputs": [
    {
     "name": "stdout",
     "output_type": "stream",
     "text": [
      "Time step: 15 minutes.\n",
      "Number of days: 40.\n",
      "Samples per day: 96.\n"
     ]
    }
   ],
   "source": [
    "input_file = '../data/data2.pkl'\n",
    "ext = os.path.splitext(input_file)[1]\n",
    "data_full = pickle.load(open(input_file, 'rb'))['full']\n",
    "data = data_full['building_energy'].copy()\n",
    "if 'building_consumption' in parameters['inputs']['continuous']:\n",
    "    data.rename({key: 'building_' + key for key in ('consumption','generation')},\n",
    "                axis='columns', inplace=True)\n",
    "data['building_temperature'] = data_full['building_sensor']['temperature'].copy()\n",
    "orig_time_step = extract_time_step(data)\n",
    "data = add_minute_and_workday(data)\n",
    "data = average_data(data, time_step, orig_time_step, parameters['inputs']['continuous'])\n",
    "n_days, samples_per_day = compute_stats(data, time_step)\n",
    "past_samples = samples_per_day * parameters['history_size'] // 24\n",
    "t_past = np.arange(past_samples) * time_step / 60\n",
    "t_past -= t_past[-1]\n",
    "t_future = np.arange(samples_per_day) * time_step / 60\n",
    "\n",
    "print(f'Time step: {time_step} minutes.')\n",
    "print(f'Number of days: {n_days}.')\n",
    "print(f'Samples per day: {samples_per_day}.')"
   ]
  },
  {
   "cell_type": "code",
   "execution_count": 7,
   "id": "7868962c",
   "metadata": {},
   "outputs": [
    {
     "name": "stdout",
     "output_type": "stream",
     "text": [
      "The input matrix has 3840 rows and 107 columns.\n"
     ]
    }
   ],
   "source": [
    "cols = parameters['inputs']['continuous']\n",
    "if parameters['average_continuous_inputs']:\n",
    "    cols = [col + '_averaged' for col in cols]\n",
    "X = make_dataset(data, cols, parameters['inputs']['categorical'],\n",
    "                training_set_max, training_set_min, n_days, samples_per_day)\n",
    "print(f'The input matrix has {X.shape[0]} rows and {X.shape[1]} columns.')"
   ]
  },
  {
   "cell_type": "code",
   "execution_count": 8,
   "id": "c6c58356",
   "metadata": {},
   "outputs": [
    {
     "name": "stdout",
     "output_type": "stream",
     "text": [
      "WARNING:tensorflow:5 out of the last 5 calls to <function Model.make_predict_function.<locals>.predict_function at 0x7f0bac48b7b8> triggered tf.function retracing. Tracing is expensive and the excessive number of tracings could be due to (1) creating @tf.function repeatedly in a loop, (2) passing tensors with different shapes, (3) passing Python objects instead of tensors. For (1), please define your @tf.function outside of the loop. For (2), @tf.function has experimental_relax_shapes=True option that relaxes argument shapes that can avoid unnecessary retracing. For (3), please refer to https://www.tensorflow.org/guide/function#controlling_retracing and https://www.tensorflow.org/api_docs/python/tf/function for  more details.\n",
      "WARNING:tensorflow:6 out of the last 6 calls to <function Model.make_predict_function.<locals>.predict_function at 0x7f0b9c3ffae8> triggered tf.function retracing. Tracing is expensive and the excessive number of tracings could be due to (1) creating @tf.function repeatedly in a loop, (2) passing tensors with different shapes, (3) passing Python objects instead of tensors. For (1), please define your @tf.function outside of the loop. For (2), @tf.function has experimental_relax_shapes=True option that relaxes argument shapes that can avoid unnecessary retracing. For (3), please refer to https://www.tensorflow.org/guide/function#controlling_retracing and https://www.tensorflow.org/api_docs/python/tf/function for  more details.\n",
      "WARNING:tensorflow:7 out of the last 7 calls to <function Model.make_predict_function.<locals>.predict_function at 0x7f0b9c1e5ea0> triggered tf.function retracing. Tracing is expensive and the excessive number of tracings could be due to (1) creating @tf.function repeatedly in a loop, (2) passing tensors with different shapes, (3) passing Python objects instead of tensors. For (1), please define your @tf.function outside of the loop. For (2), @tf.function has experimental_relax_shapes=True option that relaxes argument shapes that can avoid unnecessary retracing. For (3), please refer to https://www.tensorflow.org/guide/function#controlling_retracing and https://www.tensorflow.org/api_docs/python/tf/function for  more details.\n",
      "WARNING:tensorflow:8 out of the last 8 calls to <function Model.make_predict_function.<locals>.predict_function at 0x7f0b9c3ff8c8> triggered tf.function retracing. Tracing is expensive and the excessive number of tracings could be due to (1) creating @tf.function repeatedly in a loop, (2) passing tensors with different shapes, (3) passing Python objects instead of tensors. For (1), please define your @tf.function outside of the loop. For (2), @tf.function has experimental_relax_shapes=True option that relaxes argument shapes that can avoid unnecessary retracing. For (3), please refer to https://www.tensorflow.org/guide/function#controlling_retracing and https://www.tensorflow.org/api_docs/python/tf/function for  more details.\n",
      "WARNING:tensorflow:9 out of the last 9 calls to <function Model.make_predict_function.<locals>.predict_function at 0x7f0b71f13158> triggered tf.function retracing. Tracing is expensive and the excessive number of tracings could be due to (1) creating @tf.function repeatedly in a loop, (2) passing tensors with different shapes, (3) passing Python objects instead of tensors. For (1), please define your @tf.function outside of the loop. For (2), @tf.function has experimental_relax_shapes=True option that relaxes argument shapes that can avoid unnecessary retracing. For (3), please refer to https://www.tensorflow.org/guide/function#controlling_retracing and https://www.tensorflow.org/api_docs/python/tf/function for  more details.\n",
      "WARNING:tensorflow:10 out of the last 10 calls to <function Model.make_predict_function.<locals>.predict_function at 0x7f0b70a6c1e0> triggered tf.function retracing. Tracing is expensive and the excessive number of tracings could be due to (1) creating @tf.function repeatedly in a loop, (2) passing tensors with different shapes, (3) passing Python objects instead of tensors. For (1), please define your @tf.function outside of the loop. For (2), @tf.function has experimental_relax_shapes=True option that relaxes argument shapes that can avoid unnecessary retracing. For (3), please refer to https://www.tensorflow.org/guide/function#controlling_retracing and https://www.tensorflow.org/api_docs/python/tf/function for  more details.\n",
      "WARNING:tensorflow:11 out of the last 11 calls to <function Model.make_predict_function.<locals>.predict_function at 0x7f0b4ff9b2f0> triggered tf.function retracing. Tracing is expensive and the excessive number of tracings could be due to (1) creating @tf.function repeatedly in a loop, (2) passing tensors with different shapes, (3) passing Python objects instead of tensors. For (1), please define your @tf.function outside of the loop. For (2), @tf.function has experimental_relax_shapes=True option that relaxes argument shapes that can avoid unnecessary retracing. For (3), please refer to https://www.tensorflow.org/guide/function#controlling_retracing and https://www.tensorflow.org/api_docs/python/tf/function for  more details.\n",
      "WARNING:tensorflow:11 out of the last 11 calls to <function Model.make_predict_function.<locals>.predict_function at 0x7f0b4f5f4620> triggered tf.function retracing. Tracing is expensive and the excessive number of tracings could be due to (1) creating @tf.function repeatedly in a loop, (2) passing tensors with different shapes, (3) passing Python objects instead of tensors. For (1), please define your @tf.function outside of the loop. For (2), @tf.function has experimental_relax_shapes=True option that relaxes argument shapes that can avoid unnecessary retracing. For (3), please refer to https://www.tensorflow.org/guide/function#controlling_retracing and https://www.tensorflow.org/api_docs/python/tf/function for  more details.\n",
      "WARNING:tensorflow:11 out of the last 11 calls to <function Model.make_predict_function.<locals>.predict_function at 0x7f0b4eb61950> triggered tf.function retracing. Tracing is expensive and the excessive number of tracings could be due to (1) creating @tf.function repeatedly in a loop, (2) passing tensors with different shapes, (3) passing Python objects instead of tensors. For (1), please define your @tf.function outside of the loop. For (2), @tf.function has experimental_relax_shapes=True option that relaxes argument shapes that can avoid unnecessary retracing. For (3), please refer to https://www.tensorflow.org/guide/function#controlling_retracing and https://www.tensorflow.org/api_docs/python/tf/function for  more details.\n",
      "WARNING:tensorflow:11 out of the last 11 calls to <function Model.make_predict_function.<locals>.predict_function at 0x7f0b4e0cbc80> triggered tf.function retracing. Tracing is expensive and the excessive number of tracings could be due to (1) creating @tf.function repeatedly in a loop, (2) passing tensors with different shapes, (3) passing Python objects instead of tensors. For (1), please define your @tf.function outside of the loop. For (2), @tf.function has experimental_relax_shapes=True option that relaxes argument shapes that can avoid unnecessary retracing. For (3), please refer to https://www.tensorflow.org/guide/function#controlling_retracing and https://www.tensorflow.org/api_docs/python/tf/function for  more details.\n",
      "WARNING:tensorflow:11 out of the last 11 calls to <function Model.make_predict_function.<locals>.predict_function at 0x7f0b4d802048> triggered tf.function retracing. Tracing is expensive and the excessive number of tracings could be due to (1) creating @tf.function repeatedly in a loop, (2) passing tensors with different shapes, (3) passing Python objects instead of tensors. For (1), please define your @tf.function outside of the loop. For (2), @tf.function has experimental_relax_shapes=True option that relaxes argument shapes that can avoid unnecessary retracing. For (3), please refer to https://www.tensorflow.org/guide/function#controlling_retracing and https://www.tensorflow.org/api_docs/python/tf/function for  more details.\n",
      "WARNING:tensorflow:11 out of the last 11 calls to <function Model.make_predict_function.<locals>.predict_function at 0x7f0b9f13bb70> triggered tf.function retracing. Tracing is expensive and the excessive number of tracings could be due to (1) creating @tf.function repeatedly in a loop, (2) passing tensors with different shapes, (3) passing Python objects instead of tensors. For (1), please define your @tf.function outside of the loop. For (2), @tf.function has experimental_relax_shapes=True option that relaxes argument shapes that can avoid unnecessary retracing. For (3), please refer to https://www.tensorflow.org/guide/function#controlling_retracing and https://www.tensorflow.org/api_docs/python/tf/function for  more details.\n"
     ]
    },
    {
     "name": "stdout",
     "output_type": "stream",
     "text": [
      "WARNING:tensorflow:11 out of the last 11 calls to <function Model.make_predict_function.<locals>.predict_function at 0x7f0b4c250598> triggered tf.function retracing. Tracing is expensive and the excessive number of tracings could be due to (1) creating @tf.function repeatedly in a loop, (2) passing tensors with different shapes, (3) passing Python objects instead of tensors. For (1), please define your @tf.function outside of the loop. For (2), @tf.function has experimental_relax_shapes=True option that relaxes argument shapes that can avoid unnecessary retracing. For (3), please refer to https://www.tensorflow.org/guide/function#controlling_retracing and https://www.tensorflow.org/api_docs/python/tf/function for  more details.\n",
      "WARNING:tensorflow:11 out of the last 11 calls to <function Model.make_predict_function.<locals>.predict_function at 0x7f0b3f7c68c8> triggered tf.function retracing. Tracing is expensive and the excessive number of tracings could be due to (1) creating @tf.function repeatedly in a loop, (2) passing tensors with different shapes, (3) passing Python objects instead of tensors. For (1), please define your @tf.function outside of the loop. For (2), @tf.function has experimental_relax_shapes=True option that relaxes argument shapes that can avoid unnecessary retracing. For (3), please refer to https://www.tensorflow.org/guide/function#controlling_retracing and https://www.tensorflow.org/api_docs/python/tf/function for  more details.\n",
      "WARNING:tensorflow:11 out of the last 11 calls to <function Model.make_predict_function.<locals>.predict_function at 0x7f0b3edabbf8> triggered tf.function retracing. Tracing is expensive and the excessive number of tracings could be due to (1) creating @tf.function repeatedly in a loop, (2) passing tensors with different shapes, (3) passing Python objects instead of tensors. For (1), please define your @tf.function outside of the loop. For (2), @tf.function has experimental_relax_shapes=True option that relaxes argument shapes that can avoid unnecessary retracing. For (3), please refer to https://www.tensorflow.org/guide/function#controlling_retracing and https://www.tensorflow.org/api_docs/python/tf/function for  more details.\n",
      "WARNING:tensorflow:11 out of the last 11 calls to <function Model.make_predict_function.<locals>.predict_function at 0x7f0b3e2581e0> triggered tf.function retracing. Tracing is expensive and the excessive number of tracings could be due to (1) creating @tf.function repeatedly in a loop, (2) passing tensors with different shapes, (3) passing Python objects instead of tensors. For (1), please define your @tf.function outside of the loop. For (2), @tf.function has experimental_relax_shapes=True option that relaxes argument shapes that can avoid unnecessary retracing. For (3), please refer to https://www.tensorflow.org/guide/function#controlling_retracing and https://www.tensorflow.org/api_docs/python/tf/function for  more details.\n",
      "WARNING:tensorflow:11 out of the last 11 calls to <function Model.make_predict_function.<locals>.predict_function at 0x7f0b3cfbc2f0> triggered tf.function retracing. Tracing is expensive and the excessive number of tracings could be due to (1) creating @tf.function repeatedly in a loop, (2) passing tensors with different shapes, (3) passing Python objects instead of tensors. For (1), please define your @tf.function outside of the loop. For (2), @tf.function has experimental_relax_shapes=True option that relaxes argument shapes that can avoid unnecessary retracing. For (3), please refer to https://www.tensorflow.org/guide/function#controlling_retracing and https://www.tensorflow.org/api_docs/python/tf/function for  more details.\n",
      "WARNING:tensorflow:11 out of the last 11 calls to <function Model.make_predict_function.<locals>.predict_function at 0x7f0b3ce19620> triggered tf.function retracing. Tracing is expensive and the excessive number of tracings could be due to (1) creating @tf.function repeatedly in a loop, (2) passing tensors with different shapes, (3) passing Python objects instead of tensors. For (1), please define your @tf.function outside of the loop. For (2), @tf.function has experimental_relax_shapes=True option that relaxes argument shapes that can avoid unnecessary retracing. For (3), please refer to https://www.tensorflow.org/guide/function#controlling_retracing and https://www.tensorflow.org/api_docs/python/tf/function for  more details.\n",
      "WARNING:tensorflow:11 out of the last 11 calls to <function Model.make_predict_function.<locals>.predict_function at 0x7f0b3c380950> triggered tf.function retracing. Tracing is expensive and the excessive number of tracings could be due to (1) creating @tf.function repeatedly in a loop, (2) passing tensors with different shapes, (3) passing Python objects instead of tensors. For (1), please define your @tf.function outside of the loop. For (2), @tf.function has experimental_relax_shapes=True option that relaxes argument shapes that can avoid unnecessary retracing. For (3), please refer to https://www.tensorflow.org/guide/function#controlling_retracing and https://www.tensorflow.org/api_docs/python/tf/function for  more details.\n",
      "WARNING:tensorflow:11 out of the last 11 calls to <function Model.make_predict_function.<locals>.predict_function at 0x7f0b3c167c80> triggered tf.function retracing. Tracing is expensive and the excessive number of tracings could be due to (1) creating @tf.function repeatedly in a loop, (2) passing tensors with different shapes, (3) passing Python objects instead of tensors. For (1), please define your @tf.function outside of the loop. For (2), @tf.function has experimental_relax_shapes=True option that relaxes argument shapes that can avoid unnecessary retracing. For (3), please refer to https://www.tensorflow.org/guide/function#controlling_retracing and https://www.tensorflow.org/api_docs/python/tf/function for  more details.\n"
     ]
    }
   ],
   "source": [
    "fun = lambda y,M,m: (m + (M - m) / 2 * (y + 1)) * 1e-3\n",
    "past_measured_scaled = tf.constant(X[-past_samples:, :][np.newaxis, :, :], dtype=tf.float32)\n",
    "past_measured = fun(past_measured_scaled[0,:,0], training_set_max[0], training_set_min[0])\n",
    "future_predicted_scaled = np.ndarray.flatten(\n",
    "    np.concatenate([model.predict(past_measured_scaled) for model in models]))\n",
    "future_predicted = fun(future_predicted_scaled, training_set_max[0], training_set_min[0])"
   ]
  },
  {
   "cell_type": "code",
   "execution_count": 38,
   "id": "1739861f",
   "metadata": {},
   "outputs": [
    {
     "data": {
      "text/html": [
       "<div>\n",
       "<style scoped>\n",
       "    .dataframe tbody tr th:only-of-type {\n",
       "        vertical-align: middle;\n",
       "    }\n",
       "\n",
       "    .dataframe tbody tr th {\n",
       "        vertical-align: top;\n",
       "    }\n",
       "\n",
       "    .dataframe thead th {\n",
       "        text-align: right;\n",
       "    }\n",
       "</style>\n",
       "<table border=\"1\" class=\"dataframe\">\n",
       "  <thead>\n",
       "    <tr style=\"text-align: right;\">\n",
       "      <th></th>\n",
       "      <th>date</th>\n",
       "      <th>time</th>\n",
       "      <th>consumption (w)</th>\n",
       "    </tr>\n",
       "  </thead>\n",
       "  <tbody>\n",
       "    <tr>\n",
       "      <th>0</th>\n",
       "      <td>10/02/2020</td>\n",
       "      <td>12:15:00 AM</td>\n",
       "      <td>1759.874756</td>\n",
       "    </tr>\n",
       "    <tr>\n",
       "      <th>1</th>\n",
       "      <td>10/02/2020</td>\n",
       "      <td>12:30:00 AM</td>\n",
       "      <td>1750.446167</td>\n",
       "    </tr>\n",
       "    <tr>\n",
       "      <th>2</th>\n",
       "      <td>10/02/2020</td>\n",
       "      <td>12:45:00 AM</td>\n",
       "      <td>1767.991089</td>\n",
       "    </tr>\n",
       "    <tr>\n",
       "      <th>3</th>\n",
       "      <td>10/02/2020</td>\n",
       "      <td>1:00:00 AM</td>\n",
       "      <td>1752.180054</td>\n",
       "    </tr>\n",
       "    <tr>\n",
       "      <th>4</th>\n",
       "      <td>10/02/2020</td>\n",
       "      <td>1:15:00 AM</td>\n",
       "      <td>1815.009644</td>\n",
       "    </tr>\n",
       "  </tbody>\n",
       "</table>\n",
       "</div>"
      ],
      "text/plain": [
       "         date         time  consumption (w)\n",
       "0  10/02/2020  12:15:00 AM      1759.874756\n",
       "1  10/02/2020  12:30:00 AM      1750.446167\n",
       "2  10/02/2020  12:45:00 AM      1767.991089\n",
       "3  10/02/2020   1:00:00 AM      1752.180054\n",
       "4  10/02/2020   1:15:00 AM      1815.009644"
      ]
     },
     "execution_count": 38,
     "metadata": {},
     "output_type": "execute_result"
    }
   ],
   "source": [
    "dt = data['datetime'].iloc[-1]\n",
    "year = dt.year\n",
    "month = dt.month\n",
    "day = dt.day + 1\n",
    "dates = [f'{day:02d}/{month:02d}/{year}' for _ in range(samples_per_day - 1)]\n",
    "dates.append(f'{day+1:02d}/{month:02d}/{year}')\n",
    "hours = []\n",
    "for suffix in 'AM','PM':\n",
    "    for hour in [12] + list(range(1, 12)):\n",
    "        for i in range(60 // time_step):\n",
    "            hours.append(f'{hour}:{i*time_step:02d}:00 {suffix}')\n",
    "hours = hours[1:] + hours[:1]\n",
    "with pd.ExcelWriter(f'{year}{month:02d}{day:02d}.xlsx') as writer:\n",
    "    df = pd.DataFrame({\n",
    "        'date': dates,\n",
    "        'time': hours,\n",
    "        'consumption (w)': future_predicted * 1e3\n",
    "    })\n",
    "    df.to_excel(writer, sheet_name='building_energy', index=False)\n",
    "df.head()"
   ]
  },
  {
   "cell_type": "code",
   "execution_count": 39,
   "id": "f0445b1e",
   "metadata": {},
   "outputs": [
    {
     "data": {
      "image/png": "[encoded data removed]",
      "text/plain": [
       "<Figure size 432x288 with 1 Axes>"
      ]
     },
     "metadata": {
      "needs_background": "light"
     },
     "output_type": "display_data"
    }
   ],
   "source": [
    "fig,ax = plt.subplots(1, 1)\n",
    "ax.plot(t_past, past_measured, 'k', lw=1, label='Past')\n",
    "ax.plot(t_future, future_predicted, 'r', lw=1, label='Future')\n",
    "ax.legend(loc='best')\n",
    "dt = 4\n",
    "ax.set_xticks(np.arange(t_past[0] - time_step / 60, t_future[-1] + dt/2, dt))\n",
    "ax.set_xlabel('Time [hours]')\n",
    "ax.set_ylabel('Consumption [MW]')\n",
    "for side in 'right','top':\n",
    "    ax.spines[side].set_visible(False)\n",
    "ax.grid(which='major', axis='y', color=[.6,.6,.6], lw=0.5, linestyle=':')\n",
    "fig.tight_layout()"
   ]
  },
  {
   "cell_type": "code",
   "execution_count": null,
   "id": "0367491a",
   "metadata": {},
   "outputs": [],
   "source": []
  }
 ],
 "metadata": {
  "kernelspec": {
   "display_name": "Python 3",
   "language": "python",
   "name": "python3"
  },
  "language_info": {
   "codemirror_mode": {
    "name": "ipython",
    "version": 3
   },
   "file_extension": ".py",
   "mimetype": "text/x-python",
   "name": "python",
   "nbconvert_exporter": "python",
   "pygments_lexer": "ipython3",
   "version": "3.7.3"
  }
 },
 "nbformat": 4,
 "nbformat_minor": 5
}
