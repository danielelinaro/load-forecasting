{
 "cells": [
  {
   "cell_type": "code",
   "execution_count": null,
   "metadata": {},
   "outputs": [],
   "source": [
    "import os\n",
    "import glob\n",
    "import pickle\n",
    "import numpy as np\n",
    "import matplotlib.pyplot as plt\n",
    "import pandas as pd\n",
    "%matplotlib inline\n",
    "\n",
    "plt.rc('font', **{'family': 'sans-serif', 'size': 10})"
   ]
  },
  {
   "cell_type": "code",
   "execution_count": null,
   "metadata": {},
   "outputs": [],
   "source": [
    "future = 0.5  # [hours]\n",
    "# pkl_files = sorted(glob.glob(f'*{future:.2f}_hours-consumption.pkl'))\n",
    "pkl_files = sorted(glob.glob(f'*{future:.2f}_hours-consumption-generation.pkl'))\n",
    "suffix = '-'.join(os.path.splitext(pkl_files[0])[0].split('-')[1:])\n",
    "data = [pickle.load(open(pkl_file, 'rb')) for pkl_file in pkl_files]"
   ]
  },
  {
   "cell_type": "code",
   "execution_count": null,
   "metadata": {},
   "outputs": [],
   "source": [
    "fig,ax = plt.subplots(1, 1, figsize=(6,3))\n",
    "stop = 4\n",
    "ylim = [0.8, 8.2]\n",
    "for i,(today,tomorrow) in enumerate(zip(data[:-1], data[1:])):\n",
    "    ax.plot(i * 24 + np.zeros(2), ylim, '--', lw=1, color=[.6,.6,.6])\n",
    "    if i == 0:\n",
    "        ax.plot(today['t_past'] + i * 24, today['past_measured'], 'k', lw=1, label='Measured')\n",
    "        ax.plot(today['t_future'] + i * 24, today['future_predicted'], 'r', lw=1, label='Predicted')\n",
    "    else:\n",
    "        ax.plot(today['t_past'] + i * 24, today['past_measured'], 'k', lw=1)\n",
    "        ax.plot(today['t_future'] + i * 24, today['future_predicted'], 'r', lw=1)\n",
    "    mape = 100 * np.mean(np.abs((tomorrow['past_measured'] - today['future_predicted']) / tomorrow['past_measured']))\n",
    "    print(f'MAPE = {mape:.2f}%')\n",
    "    if i >= stop:\n",
    "        break\n",
    "i += 1\n",
    "ax.plot(i * 24 + np.zeros(2), ylim, '--', lw=1, color=[.6,.6,.6])\n",
    "if i <= stop:\n",
    "    ax.plot((i+1) * 24 + np.zeros(2), ylim, '--', lw=1, color=[.6,.6,.6])\n",
    "    ax.plot(tomorrow['t_past'] + i * 24, tomorrow['past_measured'], 'k', lw=1)\n",
    "    ax.plot(tomorrow['t_future'] + i * 24, tomorrow['future_predicted'], 'r', lw=1)\n",
    "# ax.legend(loc='upper left')\n",
    "ax.set_xticks(np.r_[-24 : 121 : 12])\n",
    "ax.set_xlabel('Time [hours]')\n",
    "ax.set_ylabel('Consumption [MW]')\n",
    "for side in 'right','top':\n",
    "    ax.spines[side].set_visible(False)\n",
    "ax.grid(which='major', axis='y', color=[.6,.6,.6], lw=0.5, linestyle=':')\n",
    "ax.set_xlim([-26, 122])\n",
    "ax.set_ylim(ylim)\n",
    "ax.set_yticks(np.r_[1 : 8.5])\n",
    "fig.tight_layout()\n",
    "fig.savefig(f'prediction_{suffix}_{stop+1}.pdf')"
   ]
  },
  {
   "cell_type": "code",
   "execution_count": null,
   "metadata": {},
   "outputs": [],
   "source": [
    "fig,ax = plt.subplots(1, 1, figsize=(8,4))\n",
    "for i,today in enumerate(data):\n",
    "    if i == 0:\n",
    "        ax.plot(today['t_past'] + i * 24, today['past_measured'], 'k', lw=1, label='Measured')\n",
    "        ax.plot(today['t_future'] + i * 24, today['future_predicted'], 'r', lw=1, label='Predicted')\n",
    "    else:\n",
    "        ax.plot(today['t_past'] + i * 24, today['past_measured'], 'k', lw=1)\n",
    "        ax.plot(today['t_future'] + i * 24, today['future_predicted'], 'r', lw=1)\n",
    "ax.legend(loc='upper left')\n",
    "ax.set_xticks(np.r_[-24 : 121 : 12])\n",
    "ax.set_xlabel('Time [hours]')\n",
    "ax.set_ylabel('Consumption [MW]')\n",
    "for side in 'right','top':\n",
    "    ax.spines[side].set_visible(False)\n",
    "ax.grid(which='major', axis='y', color=[.6,.6,.6], lw=0.5, linestyle=':')\n",
    "ax.set_xlim([-26, 122])\n",
    "fig.tight_layout()"
   ]
  }
 ],
 "metadata": {
  "kernelspec": {
   "display_name": "Python 3",
   "language": "python",
   "name": "python3"
  },
  "language_info": {
   "codemirror_mode": {
    "name": "ipython",
    "version": 3
   },
   "file_extension": ".py",
   "mimetype": "text/x-python",
   "name": "python",
   "nbconvert_exporter": "python",
   "pygments_lexer": "ipython3",
   "version": "3.7.10"
  }
 },
 "nbformat": 4,
 "nbformat_minor": 4
}
