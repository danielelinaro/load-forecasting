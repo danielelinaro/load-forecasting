{
 "cells": [
  {
   "cell_type": "code",
   "execution_count": 1,
   "metadata": {},
   "outputs": [],
   "source": [
    "import datetime\n",
    "import pickle\n",
    "\n",
    "import numpy as np\n",
    "import pandas as pd\n",
    "import tensorflow as tf\n",
    "from sklearn.preprocessing import OneHotEncoder, MinMaxScaler\n",
    "import matplotlib.pyplot as plt"
   ]
  },
  {
   "cell_type": "raw",
   "metadata": {},
   "source": [
    "def make_data_blocks(dataset, start_index, end_index, history_size, target_size, \\\n",
    "                     target=None, step=1, single_step=False):\n",
    "    data = []\n",
    "    labels = []\n",
    "\n",
    "    if target is None:\n",
    "        univariate = True\n",
    "    else:\n",
    "        univariate = False\n",
    "\n",
    "    start_index = start_index + history_size\n",
    "    if end_index is None:\n",
    "        end_index = len(dataset) - target_size\n",
    "\n",
    "    for i in range(start_index, end_index):\n",
    "        indices = range(i-history_size, i, step)\n",
    "        if univariate:\n",
    "            # Reshape data from (history_size,) to (history_size, 1)\n",
    "            data.append(np.reshape(dataset[indices], (history_size, 1)))\n",
    "            labels.append(dataset[i+target_size])\n",
    "        else:\n",
    "            data.append(dataset[indices])\n",
    "            if single_step:\n",
    "                labels.append(target[i+target_size])\n",
    "            else:\n",
    "                labels.append(target[i:i+target_size])\n",
    "    return np.array(data), np.array(labels)"
   ]
  },
  {
   "cell_type": "code",
   "execution_count": 2,
   "metadata": {},
   "outputs": [],
   "source": [
    "def make_data_blocks(dataset, start_index, end_index, history_size, target_size,\n",
    "                     steps_ahead=0, target=None, step=1):\n",
    "    data = []\n",
    "    labels = []\n",
    "\n",
    "    if target is None:\n",
    "        univariate = True\n",
    "    else:\n",
    "        univariate = False\n",
    "\n",
    "    start_index = start_index + history_size\n",
    "    if end_index is None or end_index >= len(dataset) - (target_size + steps_ahead) + 1:\n",
    "        end_index = len(dataset) - (target_size + steps_ahead) + 1\n",
    "\n",
    "    for i in range(start_index, end_index):\n",
    "        indices = range(i - history_size, i, step)\n",
    "        if univariate:\n",
    "            # Reshape data from (history_size,) to (history_size, 1)\n",
    "            data.append(np.reshape(dataset[indices], (history_size, 1)))\n",
    "            labels.append(dataset[i + steps_ahead : i + steps_ahead + target_size])\n",
    "        else:\n",
    "            data.append(dataset[indices])\n",
    "            labels.append(target[i + steps_ahead : i + steps_ahead + target_size])\n",
    "    return np.array(data), np.array(labels)"
   ]
  },
  {
   "cell_type": "code",
   "execution_count": 3,
   "metadata": {},
   "outputs": [],
   "source": [
    "def show_plot(plot_data, delta, title):\n",
    "    create_time_steps = lambda length: list(range(-length, 0))\n",
    "    labels = ['History', 'True Future', 'Model Prediction']\n",
    "    marker = ['.-', 'rs', 'go']\n",
    "    time_steps = create_time_steps(plot_data[0].shape[0])\n",
    "    future = np.array(delta)\n",
    "\n",
    "    plt.title(title)\n",
    "    for i, x in enumerate(plot_data):\n",
    "        if i:\n",
    "            plt.plot(future, plot_data[i], marker[i], markersize=8, markerfacecolor='w',\n",
    "                     markeredgewidth=2, label=labels[i])\n",
    "        else:\n",
    "            plt.plot(time_steps, plot_data[i].flatten(), marker[i], label=labels[i])\n",
    "    plt.legend()\n",
    "    plt.xlim([time_steps[0], (future.max()+5)*2])\n",
    "    plt.xlabel('Time-Step')\n",
    "    return plt"
   ]
  },
  {
   "cell_type": "code",
   "execution_count": 4,
   "metadata": {},
   "outputs": [
    {
     "name": "stdout",
     "output_type": "stream",
     "text": [
      "Time step: 15 minutes.\n",
      "Number of days: 365.\n",
      "Samples per day: 96.\n"
     ]
    }
   ],
   "source": [
    "time_step = 15 # [minutes]\n",
    "data = pickle.load(open('data1.pkl', 'rb'))\n",
    "df = data['full']['building_energy']\n",
    "\n",
    "t0 = datetime.datetime.combine(datetime.date.today(), df['datetime'][0].to_pydatetime().time())\n",
    "t1 = datetime.datetime.combine(datetime.date.today(), df['datetime'][1].to_pydatetime().time())\n",
    "orig_time_step = int((t1 - t0).total_seconds() / 60) # [min]\n",
    "avg_step = time_step // orig_time_step\n",
    "\n",
    "df['consumption_averaged'] = df['consumption'].rolling(window=avg_step).mean()\n",
    "df['generation_averaged'] = df['generation'].rolling(window=avg_step).mean()\n",
    "df['minute'] = [(dt.hour * 60 + dt.minute) for dt in df['datetime']]\n",
    "df['workday'] = np.logical_not(df['weekend'] | df['holiday'])\n",
    "cols = df.columns.tolist()\n",
    "cols = cols[:1] + cols[-2:] + cols[1:-2]\n",
    "df = df[cols]\n",
    "df = df[avg_step - 1 : : avg_step]\n",
    "\n",
    "samples_per_day = 24 * 60 // time_step\n",
    "n_samples = df.shape[0]\n",
    "n_days = n_samples // samples_per_day\n",
    "t = np.arange(samples_per_day) * time_step / 60\n",
    "print(f'Time step: {time_step} minutes.')\n",
    "print(f'Number of days: {n_days}.')\n",
    "print(f'Samples per day: {samples_per_day}.')"
   ]
  },
  {
   "cell_type": "code",
   "execution_count": 5,
   "metadata": {},
   "outputs": [
    {
     "data": {
      "text/plain": [
       "(25856640, 25859520)"
      ]
     },
     "execution_count": 5,
     "metadata": {},
     "output_type": "execute_result"
    },
    {
     "data": {
      "image/png": "[encoded data removed]",
      "text/plain": [
       "<Figure size 432x288 with 1 Axes>"
      ]
     },
     "metadata": {
      "needs_background": "light"
     },
     "output_type": "display_data"
    }
   ],
   "source": [
    "fig,ax = plt.subplots(1, 1)\n",
    "data['full']['zones'][2].plot(x='datetime', y='HVAC#2_power', color='k', lw=1, ax=ax)\n",
    "df.plot(x='datetime', y=['consumption','consumption_averaged','generation','generation_averaged'], lw=1, ax=ax)\n",
    "start = pd.Timestamp(year=2019, month=3, day=1)\n",
    "stop = pd.Timestamp(year=2019, month=3, day=3)\n",
    "# plt.ylim([-100,6000])\n",
    "ax.set_xlim([start,stop])"
   ]
  },
  {
   "cell_type": "code",
   "execution_count": 6,
   "metadata": {},
   "outputs": [
    {
     "data": {
      "text/html": [
       "<div>\n",
       "<style scoped>\n",
       "    .dataframe tbody tr th:only-of-type {\n",
       "        vertical-align: middle;\n",
       "    }\n",
       "\n",
       "    .dataframe tbody tr th {\n",
       "        vertical-align: top;\n",
       "    }\n",
       "\n",
       "    .dataframe thead th {\n",
       "        text-align: right;\n",
       "    }\n",
       "</style>\n",
       "<table border=\"1\" class=\"dataframe\">\n",
       "  <thead>\n",
       "    <tr style=\"text-align: right;\">\n",
       "      <th></th>\n",
       "      <th>datetime</th>\n",
       "      <th>minute</th>\n",
       "      <th>workday</th>\n",
       "      <th>weekday</th>\n",
       "      <th>weekend</th>\n",
       "      <th>holiday</th>\n",
       "      <th>consumption</th>\n",
       "      <th>generation</th>\n",
       "      <th>consumption_averaged</th>\n",
       "      <th>generation_averaged</th>\n",
       "    </tr>\n",
       "  </thead>\n",
       "  <tbody>\n",
       "    <tr>\n",
       "      <th>2</th>\n",
       "      <td>2019-01-01 00:15:00</td>\n",
       "      <td>15</td>\n",
       "      <td>False</td>\n",
       "      <td>1</td>\n",
       "      <td>False</td>\n",
       "      <td>True</td>\n",
       "      <td>2266</td>\n",
       "      <td>0</td>\n",
       "      <td>2503.000000</td>\n",
       "      <td>0.0</td>\n",
       "    </tr>\n",
       "    <tr>\n",
       "      <th>5</th>\n",
       "      <td>2019-01-01 00:30:00</td>\n",
       "      <td>30</td>\n",
       "      <td>False</td>\n",
       "      <td>1</td>\n",
       "      <td>False</td>\n",
       "      <td>True</td>\n",
       "      <td>2253</td>\n",
       "      <td>0</td>\n",
       "      <td>2511.333333</td>\n",
       "      <td>0.0</td>\n",
       "    </tr>\n",
       "    <tr>\n",
       "      <th>8</th>\n",
       "      <td>2019-01-01 00:45:00</td>\n",
       "      <td>45</td>\n",
       "      <td>False</td>\n",
       "      <td>1</td>\n",
       "      <td>False</td>\n",
       "      <td>True</td>\n",
       "      <td>2249</td>\n",
       "      <td>0</td>\n",
       "      <td>2488.000000</td>\n",
       "      <td>0.0</td>\n",
       "    </tr>\n",
       "    <tr>\n",
       "      <th>11</th>\n",
       "      <td>2019-01-01 01:00:00</td>\n",
       "      <td>60</td>\n",
       "      <td>False</td>\n",
       "      <td>1</td>\n",
       "      <td>False</td>\n",
       "      <td>True</td>\n",
       "      <td>2251</td>\n",
       "      <td>0</td>\n",
       "      <td>2488.333333</td>\n",
       "      <td>0.0</td>\n",
       "    </tr>\n",
       "    <tr>\n",
       "      <th>14</th>\n",
       "      <td>2019-01-01 01:15:00</td>\n",
       "      <td>75</td>\n",
       "      <td>False</td>\n",
       "      <td>1</td>\n",
       "      <td>False</td>\n",
       "      <td>True</td>\n",
       "      <td>2250</td>\n",
       "      <td>0</td>\n",
       "      <td>2467.000000</td>\n",
       "      <td>0.0</td>\n",
       "    </tr>\n",
       "  </tbody>\n",
       "</table>\n",
       "</div>"
      ],
      "text/plain": [
       "              datetime  minute  workday  weekday  weekend  holiday  \\\n",
       "2  2019-01-01 00:15:00      15    False        1    False     True   \n",
       "5  2019-01-01 00:30:00      30    False        1    False     True   \n",
       "8  2019-01-01 00:45:00      45    False        1    False     True   \n",
       "11 2019-01-01 01:00:00      60    False        1    False     True   \n",
       "14 2019-01-01 01:15:00      75    False        1    False     True   \n",
       "\n",
       "    consumption  generation  consumption_averaged  generation_averaged  \n",
       "2          2266           0           2503.000000                  0.0  \n",
       "5          2253           0           2511.333333                  0.0  \n",
       "8          2249           0           2488.000000                  0.0  \n",
       "11         2251           0           2488.333333                  0.0  \n",
       "14         2250           0           2467.000000                  0.0  "
      ]
     },
     "execution_count": 6,
     "metadata": {},
     "output_type": "execute_result"
    }
   ],
   "source": [
    "df.head()"
   ]
  },
  {
   "cell_type": "code",
   "execution_count": 7,
   "metadata": {},
   "outputs": [
    {
     "data": {
      "text/plain": [
       "datetime                2019-03-01 04:15:00\n",
       "minute                                  255\n",
       "workday                                True\n",
       "weekday                                   4\n",
       "weekend                               False\n",
       "holiday                               False\n",
       "consumption                             210\n",
       "generation                                0\n",
       "consumption_averaged                215.333\n",
       "generation_averaged                       0\n",
       "Name: 17042, dtype: object"
      ]
     },
     "execution_count": 7,
     "metadata": {},
     "output_type": "execute_result"
    }
   ],
   "source": [
    "df.iloc[5680,:]"
   ]
  },
  {
   "cell_type": "code",
   "execution_count": 8,
   "metadata": {},
   "outputs": [],
   "source": [
    "idx, = np.where([dt.seconds > 900 or dt.days > 0 for dt in df['datetime'].diff()])"
   ]
  },
  {
   "cell_type": "code",
   "execution_count": 9,
   "metadata": {},
   "outputs": [
    {
     "data": {
      "text/plain": [
       "0"
      ]
     },
     "execution_count": 9,
     "metadata": {},
     "output_type": "execute_result"
    }
   ],
   "source": [
    "len(idx)"
   ]
  },
  {
   "cell_type": "code",
   "execution_count": 10,
   "metadata": {},
   "outputs": [
    {
     "name": "stdout",
     "output_type": "stream",
     "text": [
      "We will use the first 28032 measurements (corresponding to 292 days) to train the network.\n",
      "We will use the subsequent 3456 measurements (corresponding to 36 days) to validate the network.\n",
      "We will use the final 3552 measurements (corresponding to 37 days) to validate the network.\n"
     ]
    }
   ],
   "source": [
    "n_days_training = int(0.8 * n_days)\n",
    "n_days_validation = int(0.1 * n_days)\n",
    "n_days_test = n_days - n_days_training - n_days_validation\n",
    "TRAIN_SPLIT = n_days_training * samples_per_day\n",
    "VALIDATION_SPLIT = (n_days_training + n_days_validation) * samples_per_day\n",
    "print('We will use the first {} measurements (corresponding to {} days) to train the network.'.\\\n",
    "      format(TRAIN_SPLIT, n_days_training))\n",
    "print('We will use the subsequent {} measurements (corresponding to {} days) to validate the network.'.\\\n",
    "      format(VALIDATION_SPLIT - TRAIN_SPLIT, n_days_validation))\n",
    "print('We will use the final {} measurements (corresponding to {} days) to validate the network.'.\\\n",
    "      format(n_days_test * samples_per_day, n_days_test))"
   ]
  },
  {
   "cell_type": "code",
   "execution_count": 11,
   "metadata": {},
   "outputs": [
    {
     "data": {
      "text/plain": [
       "(35040, 2)"
      ]
     },
     "execution_count": 11,
     "metadata": {},
     "output_type": "execute_result"
    }
   ],
   "source": [
    "cols = ['consumption_averaged','generation_averaged']\n",
    "# cols = ['consumption_averaged']\n",
    "x = df[cols].to_numpy(dtype=np.float32)\n",
    "x = np.reshape(x, [n_days, samples_per_day, x.shape[1]])\n",
    "x_train_max = np.max(x[:TRAIN_SPLIT, :, :], axis=(0, 1))\n",
    "x_train_min = np.min(x[:TRAIN_SPLIT, :, :], axis=(0, 1))\n",
    "x_scaled = np.array([np.ndarray.flatten(-1 + 2 * (x[:,:,i] - m) / (M - m))\n",
    "                         for i,(M,m) in enumerate(zip(x_train_max, x_train_min))]).T\n",
    "x_scaled.shape"
   ]
  },
  {
   "cell_type": "code",
   "execution_count": 12,
   "metadata": {},
   "outputs": [
    {
     "data": {
      "text/plain": [
       "(35040, 105)"
      ]
     },
     "execution_count": 12,
     "metadata": {},
     "output_type": "execute_result"
    }
   ],
   "source": [
    "encoder = OneHotEncoder(categories='auto')\n",
    "cols = ['minute','weekday','workday']\n",
    "encoder.fit(df[cols].to_numpy())\n",
    "categorical = encoder.transform(df[cols].to_numpy()).toarray()\n",
    "categorical.shape"
   ]
  },
  {
   "cell_type": "code",
   "execution_count": 13,
   "metadata": {},
   "outputs": [],
   "source": [
    "# length of history to use for prediction\n",
    "history_size = int(samples_per_day / 1)\n",
    "# how many steps to predict in the future\n",
    "target_size = 1 * 60 // time_step\n",
    "# how many steps to look ahead\n",
    "steps_ahead = 0\n",
    "\n",
    "X = np.concatenate((x_scaled, categorical), axis=1)\n",
    "\n",
    "x_train, y_train = make_data_blocks(X, 0, TRAIN_SPLIT, history_size, target_size,\n",
    "                                    steps_ahead, target=X[:,0])\n",
    "x_val,   y_val   = make_data_blocks(X, TRAIN_SPLIT, VALIDATION_SPLIT, history_size,\n",
    "                                    target_size, steps_ahead, target=X[:,0])\n",
    "x_test,  y_test  = make_data_blocks(X, VALIDATION_SPLIT, None, history_size,\n",
    "                                    target_size, steps_ahead, target=X[:,0])"
   ]
  },
  {
   "cell_type": "code",
   "execution_count": 14,
   "metadata": {},
   "outputs": [
    {
     "data": {
      "text/plain": [
       "(27936, 96, 107)"
      ]
     },
     "execution_count": 14,
     "metadata": {},
     "output_type": "execute_result"
    }
   ],
   "source": [
    "x_train.shape"
   ]
  },
  {
   "cell_type": "code",
   "execution_count": 15,
   "metadata": {},
   "outputs": [
    {
     "data": {
      "text/plain": [
       "(27936, 4)"
      ]
     },
     "execution_count": 15,
     "metadata": {},
     "output_type": "execute_result"
    }
   ],
   "source": [
    "y_train.shape"
   ]
  },
  {
   "cell_type": "code",
   "execution_count": 16,
   "metadata": {},
   "outputs": [
    {
     "data": {
      "text/plain": [
       "<module 'matplotlib.pyplot' from '/usr/local/lib/python3.7/site-packages/matplotlib/pyplot.py'>"
      ]
     },
     "execution_count": 16,
     "metadata": {},
     "output_type": "execute_result"
    },
    {
     "data": {
      "image/png": "[encoded data removed]",
      "text/plain": [
       "<Figure size 432x288 with 1 Axes>"
      ]
     },
     "metadata": {
      "needs_background": "light"
     },
     "output_type": "display_data"
    }
   ],
   "source": [
    "i = 170\n",
    "show_plot([x_train[i, :, 0], y_train[i]], np.arange(target_size), 'Sample Example')"
   ]
  },
  {
   "cell_type": "code",
   "execution_count": 17,
   "metadata": {},
   "outputs": [],
   "source": [
    "BATCH_SIZE = 256\n",
    "BUFFER_SIZE = 10000\n",
    "train = tf.data.Dataset.from_tensor_slices((x_train, y_train))\n",
    "train = train.cache().shuffle(BUFFER_SIZE).batch(BATCH_SIZE).repeat()\n",
    "val = tf.data.Dataset.from_tensor_slices((x_val, y_val))\n",
    "val = val.batch(BATCH_SIZE).repeat()"
   ]
  },
  {
   "cell_type": "code",
   "execution_count": 18,
   "metadata": {},
   "outputs": [
    {
     "name": "stdout",
     "output_type": "stream",
     "text": [
      "Model: \"model\"\n",
      "_________________________________________________________________\n",
      "Layer (type)                 Output Shape              Param #   \n",
      "=================================================================\n",
      "input (InputLayer)           [(None, 96, 107)]         0         \n",
      "_________________________________________________________________\n",
      "lstm_1 (LSTM)                (None, 96, 15)            7380      \n",
      "_________________________________________________________________\n",
      "lstm_2 (LSTM)                (None, 96, 15)            1860      \n",
      "_________________________________________________________________\n",
      "lstm_3 (LSTM)                (None, 15)                1860      \n",
      "_________________________________________________________________\n",
      "dense (Dense)                (None, 4)                 64        \n",
      "=================================================================\n",
      "Total params: 11,164\n",
      "Trainable params: 11,164\n",
      "Non-trainable params: 0\n",
      "_________________________________________________________________\n"
     ]
    }
   ],
   "source": [
    "n_layers = 3\n",
    "n_units = [15 for _ in range(n_layers)]\n",
    "\n",
    "inputs = tf.keras.Input(shape=x_train.shape[-2:], name='input')\n",
    "for n in n_units[:-1]:\n",
    "    try:\n",
    "        lyr = tf.keras.layers.LSTM(n, return_sequences=True)(lyr)\n",
    "    except:\n",
    "        lyr = tf.keras.layers.LSTM(n, return_sequences=True)(inputs)\n",
    "try:\n",
    "    lyr = tf.keras.layers.LSTM(n_units[-1])(lyr)\n",
    "except:\n",
    "    lyr = tf.keras.layers.LSTM(n_units[-1])(inputs)\n",
    "outputs = tf.keras.layers.Dense(target_size)(lyr)\n",
    "\n",
    "RNN = tf.keras.Model(inputs=inputs, outputs=outputs)\n",
    "\n",
    "RNN.compile(optimizer='adam', loss='mae')\n",
    "RNN.summary()"
   ]
  },
  {
   "cell_type": "code",
   "execution_count": null,
   "metadata": {},
   "outputs": [],
   "source": [
    "EVALUATION_INTERVAL = 1000\n",
    "EPOCHS = 5\n",
    "history = RNN.fit(train, epochs=EPOCHS, steps_per_epoch=EVALUATION_INTERVAL, validation_data=val, validation_steps=50)"
   ]
  },
  {
   "cell_type": "code",
   "execution_count": null,
   "metadata": {},
   "outputs": [],
   "source": [
    "train_loss = RNN.evaluate(x_train, y_train, verbose=0)\n",
    "val_loss   = RNN.evaluate(x_val,   y_val,   verbose=0)\n",
    "test_loss  = RNN.evaluate(x_test,  y_test,  verbose=0)\n",
    "print('Loss on the training set ..... {:.4f}.'.format(train_loss))\n",
    "print('Loss on the validation set ... {:.4f}.'.format(val_loss))\n",
    "print('Loss on the test set ......... {:.4f}.'.format(test_loss))"
   ]
  },
  {
   "cell_type": "code",
   "execution_count": null,
   "metadata": {},
   "outputs": [],
   "source": [
    "test_prediction = RNN.predict(x_test)\n",
    "val_prediction = RNN.predict(x_val)\n",
    "days_test = np.arange(y_test.shape[0]) / samples_per_day\n",
    "days_val = np.arange(y_val.shape[0]) / samples_per_day"
   ]
  },
  {
   "cell_type": "code",
   "execution_count": null,
   "metadata": {},
   "outputs": [],
   "source": [
    "i = 3000\n",
    "y_pred = RNN.predict(x_test[i:i+1, :, :]).squeeze()\n",
    "show_plot([x_test[i, :, 0], y_test[i], y_pred], np.arange(target_size), 'Sample Example')"
   ]
  },
  {
   "cell_type": "code",
   "execution_count": null,
   "metadata": {},
   "outputs": [],
   "source": [
    "fun = lambda y,M,m: m + (M - m) / 2 * (y + 1)\n",
    "\n",
    "i = 0\n",
    "fig,(ax1,ax2) = plt.subplots(2, 1, figsize=(15,10))\n",
    "ax1.plot(days_val, fun(y_val[:,i], x_train_max[0], x_train_min[0]), 'k', label='Measured')\n",
    "ax1.plot(days_val, fun(val_prediction[:,i], x_train_max[0], x_train_min[0]), 'r', label='Predicted')\n",
    "ax1.set_title('Validation set')\n",
    "ax1.set_ylabel('Energy consumption [kWh]')\n",
    "ax1.set_xticks(np.arange(int(np.ceil(days_val[-1])) + 1))\n",
    "\n",
    "ax2.plot(days_test, fun(y_test[:,i], x_train_max[0], x_train_min[0]), 'k', label='Measured')\n",
    "ax2.plot(days_test, fun(test_prediction[:,i], x_train_max[0], x_train_min[0]), 'r', label='Predicted')\n",
    "ax2.set_title('Test set')\n",
    "ax2.set_xlabel('Days')\n",
    "ax2.set_ylabel('Energy consumption [kWh]')\n",
    "ax2.legend(loc='best')\n",
    "# ax2.set_xlim([6, 8])\n",
    "ax2.set_xticks(np.arange(int(np.ceil(days_test[-1])) + 1));"
   ]
  },
  {
   "cell_type": "code",
   "execution_count": null,
   "metadata": {},
   "outputs": [],
   "source": []
  }
 ],
 "metadata": {
  "kernelspec": {
   "display_name": "Python 3",
   "language": "python",
   "name": "python3"
  },
  "language_info": {
   "codemirror_mode": {
    "name": "ipython",
    "version": 3
   },
   "file_extension": ".py",
   "mimetype": "text/x-python",
   "name": "python",
   "nbconvert_exporter": "python",
   "pygments_lexer": "ipython3",
   "version": "3.7.10"
  }
 },
 "nbformat": 4,
 "nbformat_minor": 4
}
